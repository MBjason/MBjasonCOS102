{
 "cells": [
  {
   "cell_type": "code",
   "execution_count": 7,
   "metadata": {},
   "outputs": [
    {
     "name": "stdout",
     "output_type": "stream",
     "text": [
      " Welcome to our quadratics calculator \n",
      "Insert your values, Ax^2 + Bx + C = 0\n",
      "roots are complex: x = -0.625 + 0.7806247497997998 X2 = -0.625 + 0.7806247497997998\n"
     ]
    },
    {
     "ename": "ValueError",
     "evalue": "math domain error",
     "output_type": "error",
     "traceback": [
      "\u001b[31m---------------------------------------------------------------------------\u001b[39m",
      "\u001b[31mValueError\u001b[39m                                Traceback (most recent call last)",
      "\u001b[36mCell\u001b[39m\u001b[36m \u001b[39m\u001b[32mIn[7]\u001b[39m\u001b[32m, line 42\u001b[39m\n\u001b[32m     38\u001b[39m     \u001b[38;5;28mprint\u001b[39m(\u001b[33mf\u001b[39m\u001b[33m\"\u001b[39m\u001b[33m The first root is: x = \u001b[39m\u001b[38;5;132;01m{\u001b[39;00mroot1\u001b[38;5;132;01m}\u001b[39;00m\u001b[33m\"\u001b[39m)\n\u001b[32m     39\u001b[39m     \u001b[38;5;28mprint\u001b[39m(\u001b[33mf\u001b[39m\u001b[33m\"\u001b[39m\u001b[33mthe second root is: x = \u001b[39m\u001b[38;5;132;01m{\u001b[39;00mroot2\u001b[38;5;132;01m}\u001b[39;00m\u001b[33m\"\u001b[39m)\n\u001b[32m---> \u001b[39m\u001b[32m42\u001b[39m \u001b[43mquadratic_equation\u001b[49m\u001b[43m(\u001b[49m\u001b[43m)\u001b[49m\n",
      "\u001b[36mCell\u001b[39m\u001b[36m \u001b[39m\u001b[32mIn[7]\u001b[39m\u001b[32m, line 35\u001b[39m, in \u001b[36mquadratic_equation\u001b[39m\u001b[34m()\u001b[39m\n\u001b[32m     26\u001b[39m     imaginary_root = math.sqrt(\u001b[38;5;28mabs\u001b[39m(discriminant)) / (\u001b[32m2\u001b[39m * a)\n\u001b[32m     27\u001b[39m     \u001b[38;5;28mprint\u001b[39m(\u001b[33mf\u001b[39m\u001b[33m\"\u001b[39m\u001b[33mroots are complex: x = \u001b[39m\u001b[38;5;132;01m{\u001b[39;00mroot_4\u001b[38;5;132;01m}\u001b[39;00m\u001b[33m + \u001b[39m\u001b[38;5;132;01m{\u001b[39;00mimaginary_root\u001b[38;5;132;01m}\u001b[39;00m\u001b[33m X2 = \u001b[39m\u001b[38;5;132;01m{\u001b[39;00mroot_4\u001b[38;5;132;01m}\u001b[39;00m\u001b[33m + \u001b[39m\u001b[38;5;132;01m{\u001b[39;00mimaginary_root\u001b[38;5;132;01m}\u001b[39;00m\u001b[33m\"\u001b[39m)\n\u001b[32m---> \u001b[39m\u001b[32m35\u001b[39m root1= (-b + \u001b[43mmath\u001b[49m\u001b[43m.\u001b[49m\u001b[43msqrt\u001b[49m\u001b[43m(\u001b[49m\u001b[43mdiscriminant\u001b[49m\u001b[43m)\u001b[49m) / (\u001b[32m2\u001b[39m * a)\n\u001b[32m     36\u001b[39m root2= (-b - math.sqrt(discriminant)) / (\u001b[32m2\u001b[39m * a)\n\u001b[32m     38\u001b[39m \u001b[38;5;28mprint\u001b[39m(\u001b[33mf\u001b[39m\u001b[33m\"\u001b[39m\u001b[33m The first root is: x = \u001b[39m\u001b[38;5;132;01m{\u001b[39;00mroot1\u001b[38;5;132;01m}\u001b[39;00m\u001b[33m\"\u001b[39m)\n",
      "\u001b[31mValueError\u001b[39m: math domain error"
     ]
    }
   ],
   "source": [
    "import math\n",
    "\n",
    "def quadratic_equation():\n",
    "    print(\" Welcome to our quadratics calculator \")\n",
    "    print(\"Insert your values, Ax^2 + Bx + C = 0\")\n",
    "    \n",
    "    a = float(input(\"Enter a value for a: \"))\n",
    "    b = float(input(\"Enter a value for b:\"))\n",
    "    c = float(input(\"Enter a value for c: \"))\n",
    "    \n",
    "    \n",
    "    discriminant = b**2 - 4*a*c\n",
    "    \n",
    "    if discriminant > 0:\n",
    "        \n",
    "        root_1= (-b + math.sqrt(discriminant)) / (2 * a)\n",
    "        root_2= (-b - math.sqrt(discriminant)) / (2 * a)\n",
    "        print(f\" The  roots are: x1 = {root1}, x2 = {root_2}\")\n",
    "        \n",
    "    elif discriminant == 0:\n",
    "        root_3 = -b / (2 * a)\n",
    "        print(f\"Root is : x = {root_3}\")\n",
    "        \n",
    "    else:\n",
    "        root_4 = -b / (2 * a)\n",
    "        imaginary_root = math.sqrt(abs(discriminant)) / (2 * a)\n",
    "        print(f\"roots are complex: x = {root_4} + {imaginary_root} X2 = {root_4} + {imaginary_root}\")\n",
    "    \n",
    "    \n",
    "    \n",
    "        \n",
    "   \n",
    "    \n",
    "    \n",
    "    root1= (-b + math.sqrt(discriminant)) / (2 * a)\n",
    "    root2= (-b - math.sqrt(discriminant)) / (2 * a)\n",
    "    \n",
    "    print(f\" The first root is: x = {root1}\")\n",
    "    print(f\"the second root is: x = {root2}\")\n",
    "    \n",
    "    \n",
    "quadratic_equation()\n",
    "    \n",
    "\n"
   ]
  },
  {
   "cell_type": "code",
   "execution_count": null,
   "metadata": {},
   "outputs": [],
   "source": []
  },
  {
   "cell_type": "markdown",
   "metadata": {},
   "source": []
  }
 ],
 "metadata": {
  "kernelspec": {
   "display_name": "Python 3",
   "language": "python",
   "name": "python3"
  },
  "language_info": {
   "codemirror_mode": {
    "name": "ipython",
    "version": 3
   },
   "file_extension": ".py",
   "mimetype": "text/x-python",
   "name": "python",
   "nbconvert_exporter": "python",
   "pygments_lexer": "ipython3",
   "version": "3.12.6"
  }
 },
 "nbformat": 4,
 "nbformat_minor": 2
}
