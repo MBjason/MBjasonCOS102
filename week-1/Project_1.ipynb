{
 "cells": [
  {
   "cell_type": "code",
   "execution_count": 3,
   "metadata": {},
   "outputs": [
    {
     "name": "stdout",
     "output_type": "stream",
     "text": [
      "Hello\n"
     ]
    }
   ],
   "source": [
    "print(\"Hello\")\n",
    "print(\"This calculator for Simple interest, compound interest and Annuity plan\")\n",
    "def simple_interest(principal, rate, time):\n",
    "    return (principal * rate * time) / 100\n",
    "\n",
    "def compound_interest(principal, rate, time, n):\n",
    "    return principal * (1 + rate / (100 * n))**(n * time) - principal\n",
    "\n",
    "def annuity_payment(principal, rate, time):\n",
    "    rate = rate / 100  # Convert percentage to decimal\n",
    "    annuity = principal * (rate / (1 - (1 + rate)**-time))\n",
    "    return annuity\n",
    "\n",
    "def main():\n",
    "    print(\"Student Financial Calculator\")\n",
    "    principal = float(input(\"Enter the principal amount: \"))\n",
    "    rate = float(input(\"Enter the annual interest rate (in %): \"))\n",
    "    time = int(input(\"Enter the time period (in years): \"))\n",
    "    \n",
    "    si = simple_interest(principal, rate, time)\n",
    "    print(f\"Simple Interest: {si}\")\n",
    "    \n",
    "    n = int(input(\"Enter the number of times interest is compounded per year: \"))\n",
    "    ci = compound_interest(principal, rate, time, n)\n",
    "    print(f\"Compound Interest: {ci}\")\n",
    "    \n",
    "    annuity = annuity_payment(principal, rate, time)\n",
    "    print(f\"Annuity Payment: {annuity} per year\")"
   ]
  }
 ],
 "metadata": {
  "kernelspec": {
   "display_name": "Python 3",
   "language": "python",
   "name": "python3"
  },
  "language_info": {
   "codemirror_mode": {
    "name": "ipython",
    "version": 3
   },
   "file_extension": ".py",
   "mimetype": "text/x-python",
   "name": "python",
   "nbconvert_exporter": "python",
   "pygments_lexer": "ipython3",
   "version": "3.12.6"
  }
 },
 "nbformat": 4,
 "nbformat_minor": 2
}
