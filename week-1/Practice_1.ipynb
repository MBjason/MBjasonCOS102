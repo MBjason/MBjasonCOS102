{
 "cells": [
  {
   "cell_type": "code",
   "execution_count": null,
   "metadata": {},
   "outputs": [],
   "source": [
    "#Integer number\n",
    "num = 100\n",
    "print(num)\n",
    "print(\"Data type of Variable num is\", type(num))\n",
    "\n",
    "#Float number\n",
    "fnum = 34.45\n",
    "print(fnum)\n",
    "print(\"Data type is fnum is\", type(fnum))\n",
    "\n",
    "#complex number\n",
    "cnum = 3 + 4j\n",
    "print (cnum)\n",
    "print(\"Data type of variable cnum is\", type(cnum))"
   ]
  }
 ],
 "metadata": {
  "language_info": {
   "name": "python"
  }
 },
 "nbformat": 4,
 "nbformat_minor": 2
}
