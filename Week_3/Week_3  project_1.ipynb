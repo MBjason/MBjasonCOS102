{
 "cells": [
  {
   "cell_type": "code",
   "execution_count": 8,
   "id": "5d18073c",
   "metadata": {},
   "outputs": [
    {
     "name": "stdout",
     "output_type": "stream",
     "text": [
      "Bellow table for girls\n",
      "      Name  Age  Hieght  Grade\n",
      "0   Evelyn   17     5.5     80\n",
      "1  Jessica   16     6.0     85\n",
      "2    Somto   17     5.4     70\n",
      "3    Edith   18     5.9     60\n",
      "4     Liza   16     5.6     76\n",
      "5  Madonna   18     5.5     66\n",
      "6     Waje   17     6.1     87\n",
      "7     Tola   20     6.0     95\n",
      "8    Aisha   19     5.7     50\n",
      "9   Latifa   17     5.5     49\n",
      "Bellow table for boys\n",
      "      Name  Age  Hieght  Grade\n",
      "0  Chinedu   19     5.7     74\n",
      "1     Liam   16     5.9     87\n",
      "2     Wave   18     5.8     75\n",
      "3   Gbenga   17     6.1     68\n",
      "4   Abiola   20     5.9     66\n",
      "5     Kola   19     5.5     78\n",
      "6    Kunle   16     6.1     87\n",
      "7   George   18     5.4     98\n",
      "8   Thomas   17     5.8     54\n",
      "9   Wesley   19     5.7     60\n"
     ]
    }
   ],
   "source": [
    "import pandas as pd\n",
    "data_for_girls = {\n",
    "    'Name':['Evelyn','Jessica','Somto','Edith','Liza','Madonna','Waje','Tola','Aisha','Latifa'], #type: ignore\n",
    "    'Age':[17,16,17,18,16,18,17,20,19,17], # type: ignore\n",
    "    'Hieght':[5.5,6.0,5.4,5.9,5.6,5.5,6.1,6.0,5.7,5.5], # type: ignore\n",
    "    'Grade': [80,85,70,60,76,66,87,95,50,49], # type: ignore  \n",
    "}\n",
    "tabular_form = pd.DataFrame(data_for_girls)\n",
    "print(\"Bellow table for girls\")\n",
    "print(tabular_form)\n",
    "\n",
    "data_for_boys = {\n",
    "    'Name':['Chinedu','Liam', 'Wave', 'Gbenga', 'Abiola', 'Kola', 'Kunle', 'George', 'Thomas', 'Wesley'],# type: ignore\n",
    "    'Age':[19,16,18,17,20,19,16,18,17,19],#type: ignore\n",
    "    'Hieght':[5.7,5.9,5.8,6.1,5.9,5.5,6.1,5.4,5.8,5.7],#type: ignore\n",
    "    'Grade':[74,87,75,68,66,78,87,98,54,60],#type: ignore\n",
    "}\n",
    "tabular_form_2 = pd.DataFrame(data_for_boys)\n",
    "print(\"Bellow table for boys\")\n",
    "print(tabular_form_2)   \n",
    "    \n"
   ]
  }
 ],
 "metadata": {
  "kernelspec": {
   "display_name": "Python 3",
   "language": "python",
   "name": "python3"
  },
  "language_info": {
   "codemirror_mode": {
    "name": "ipython",
    "version": 3
   },
   "file_extension": ".py",
   "mimetype": "text/x-python",
   "name": "python",
   "nbconvert_exporter": "python",
   "pygments_lexer": "ipython3",
   "version": "3.12.6"
  }
 },
 "nbformat": 4,
 "nbformat_minor": 5
}
