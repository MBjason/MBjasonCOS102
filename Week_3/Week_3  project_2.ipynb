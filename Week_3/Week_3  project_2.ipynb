{
 "cells": [
  {
   "cell_type": "code",
   "execution_count": 3,
   "id": "05538822",
   "metadata": {},
   "outputs": [
    {
     "name": "stdout",
     "output_type": "stream",
     "text": [
      "Your ATR 1500000\n"
     ]
    }
   ],
   "source": [
    "import pandas as pd\n",
    "years_of_expirence = int(input(\"Enter your years of expirience?\"))\n",
    "age = int(input(\"Enter your age\"))\n",
    "\n",
    "if years_of_expirence > 25 and age >= 55:\n",
    "    print(\" Your annual tax is N5600000\")\n",
    "elif  years_of_expirence > 20 and age >= 45:\n",
    "    print(\" Your ATR is N4480000\")\n",
    "elif years_of_expirence > 10 and age >= 35:\n",
    "    print(\"Your ATR 1500000\") \n",
    "elif years_of_expirence < 10 and age >= 35:\n",
    "    print(\"Print ATR 550000\")\n",
    "else:\n",
    "    print(\"Commot!!!!!!\")   \n",
    "    "
   ]
  }
 ],
 "metadata": {
  "kernelspec": {
   "display_name": "Python 3",
   "language": "python",
   "name": "python3"
  },
  "language_info": {
   "codemirror_mode": {
    "name": "ipython",
    "version": 3
   },
   "file_extension": ".py",
   "mimetype": "text/x-python",
   "name": "python",
   "nbconvert_exporter": "python",
   "pygments_lexer": "ipython3",
   "version": "3.12.6"
  }
 },
 "nbformat": 4,
 "nbformat_minor": 5
}
