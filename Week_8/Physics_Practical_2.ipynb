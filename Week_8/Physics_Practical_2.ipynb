{
 "cells": [
  {
   "cell_type": "code",
   "execution_count": 9,
   "id": "903efcdb",
   "metadata": {},
   "outputs": [
    {
     "name": "stdout",
     "output_type": "stream",
     "text": [
      "4599.95215964\n",
      "4600.085311271597\n"
     ]
    }
   ],
   "source": [
    "# QUESTION 1(16.2)\n",
    "Resistance = float(input(\"Enter the value of your resistance given:\"))\n",
    "Inductance = float(input(\" Enter the value of your inductance given:\"))\n",
    "Frequency = float(input(\" Enter the value of your inductance given:\"))\n",
    "\n",
    "\n",
    "R = Resistance\n",
    "I = Inductance\n",
    "F = Frequency\n",
    "\n",
    "Calculate_Reactance = 2 * 3.142 * F * I\n",
    "Xl = Calculate_Reactance\n",
    "Calculate_Impedance = (R**2 + Xl**2)**0.5\n",
    "Z = Calculate_Impedance\n",
    "\n",
    "print(Xl)\n",
    "print(Z)"
   ]
  },
  {
   "cell_type": "code",
   "execution_count": 10,
   "id": "818b1e05",
   "metadata": {},
   "outputs": [
    {
     "name": "stdout",
     "output_type": "stream",
     "text": [
      "0.810359309265932\n",
      "0.02431077927797796\n"
     ]
    }
   ],
   "source": [
    "#Question 2(16.3)\n",
    "Capacitance = float(input(\"Enter your value given for Capacitance in micro farad:\"))\n",
    "Current = float(input(\"Enter your value given for current:\"))\n",
    "Frequency2 = float(input(\"Enter your value given for frequency:\"))\n",
    "\n",
    "C = Capacitance * (0.000001)\n",
    "I = Current\n",
    "F = Frequency2 * 3.142\n",
    "\n",
    "Calculate_Capacitive_Reactance = 1/(2 * 3.142 * F * C )\n",
    "Xc = Calculate_Capacitive_Reactance\n",
    "\n",
    "Calculate_Voltage_across_the_capacitor = (I * Xc)\n",
    "V = Calculate_Voltage_across_the_capacitor\n",
    "\n",
    "print(Xc)\n",
    "print(V)\n",
    "\n"
   ]
  }
 ],
 "metadata": {
  "kernelspec": {
   "display_name": "Python 3",
   "language": "python",
   "name": "python3"
  },
  "language_info": {
   "codemirror_mode": {
    "name": "ipython",
    "version": 3
   },
   "file_extension": ".py",
   "mimetype": "text/x-python",
   "name": "python",
   "nbconvert_exporter": "python",
   "pygments_lexer": "ipython3",
   "version": "3.12.6"
  }
 },
 "nbformat": 4,
 "nbformat_minor": 5
}
