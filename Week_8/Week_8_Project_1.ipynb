{
 "cells": [
  {
   "cell_type": "code",
   "execution_count": 6,
   "id": "a8d45f8c",
   "metadata": {},
   "outputs": [
    {
     "name": "stdout",
     "output_type": "stream",
     "text": [
      " opps!! access denied for {name}\n"
     ]
    }
   ],
   "source": [
    "import random\n",
    "class Employee :\n",
    "    def __init__(self):\n",
    "        \n",
    "        self.employee = [\n",
    "            \"Mary Evans\", \"Eyo Ishan\", \"Durojaiye Dare\", \"Adams Ali\",\"Andrew Ugwu\", \"Stella Mankinde\", \"Jane Akibo\", \"Ago James\"\n",
    "            \"Michelle Taiwo\", \"Abraham Jones\" , \"Nicole Anide\", \"Kosi Korso\", \"Adele Martins\", \"Emmanuel Ojo\", \"Ajayi Fatima\"\n",
    "        ]\n",
    "        \n",
    "        self.task = [\n",
    "            \"Loading\", \"Transporting\", \"Reveiwing Orders\", \"Customer Service\", \"Delivering Items\"\n",
    "        ]\n",
    "    def check_employee(self,name):\n",
    "        return name in self.employee\n",
    "    def take_attendance(self, name):\n",
    "        print(\"Attendance is clicked for: {name}\")\n",
    "    def assign_task(self, name):\n",
    "        task = random.choice(self.task)\n",
    "        print(\"task assigned to: {name} is {task}\")\n",
    "    def refuse_acces(self, name):\n",
    "        print(\" opps!! access denied for {name}\")\n",
    "    \n",
    "emp_system = Employee()   \n",
    "user_input = input(\"Please enter your name\")\n",
    "if emp_system.check_employee(user_input):\n",
    "       emp_system.take_attendance(user_input)\n",
    "       emp_system.assign_task(user_input)\n",
    "else:\n",
    "    emp_system.refuse_acces(user_input)\n",
    "         \n",
    "        "
   ]
  }
 ],
 "metadata": {
  "kernelspec": {
   "display_name": "Python 3",
   "language": "python",
   "name": "python3"
  },
  "language_info": {
   "codemirror_mode": {
    "name": "ipython",
    "version": 3
   },
   "file_extension": ".py",
   "mimetype": "text/x-python",
   "name": "python",
   "nbconvert_exporter": "python",
   "pygments_lexer": "ipython3",
   "version": "3.12.6"
  }
 },
 "nbformat": 4,
 "nbformat_minor": 5
}
